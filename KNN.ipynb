{
  "nbformat": 4,
  "nbformat_minor": 0,
  "metadata": {
    "colab": {
      "name": "KNN.ipynb",
      "provenance": [],
      "toc_visible": true
    },
    "kernelspec": {
      "name": "python3",
      "display_name": "Python 3"
    }
  },
  "cells": [
    {
      "cell_type": "code",
      "metadata": {
        "id": "TsaxCLueZe5J"
      },
      "source": [
        "# Importing Librairies\n",
        "import numpy as np\n",
        "import matplotlib.pyplot as plt\n",
        "import pandas as pd"
      ],
      "execution_count": 2,
      "outputs": []
    },
    {
      "cell_type": "code",
      "metadata": {
        "id": "0zuhG8PdZgkY"
      },
      "source": [
        "#Importing The Dataset\n",
        "url = \"https://archive.ics.uci.edu/ml/machine-learning-databases/iris/iris.data\"\n",
        "\n",
        "names = ['sepal-length', 'sepal-width', 'petal-length', 'petal-width', 'Class']\n",
        "\n",
        "# Read dataset to pandas dataframe\n",
        "dataset = pd.read_csv(url, names=names)"
      ],
      "execution_count": 3,
      "outputs": []
    },
    {
      "cell_type": "code",
      "metadata": {
        "colab": {
          "base_uri": "https://localhost:8080/",
          "height": 204
        },
        "id": "q1LbaImQZvPD",
        "outputId": "09f38803-52b9-49a7-d160-ab8bdb08a76a"
      },
      "source": [
        "dataset.head()\n"
      ],
      "execution_count": 4,
      "outputs": [
        {
          "output_type": "execute_result",
          "data": {
            "text/html": [
              "<div>\n",
              "<style scoped>\n",
              "    .dataframe tbody tr th:only-of-type {\n",
              "        vertical-align: middle;\n",
              "    }\n",
              "\n",
              "    .dataframe tbody tr th {\n",
              "        vertical-align: top;\n",
              "    }\n",
              "\n",
              "    .dataframe thead th {\n",
              "        text-align: right;\n",
              "    }\n",
              "</style>\n",
              "<table border=\"1\" class=\"dataframe\">\n",
              "  <thead>\n",
              "    <tr style=\"text-align: right;\">\n",
              "      <th></th>\n",
              "      <th>sepal-length</th>\n",
              "      <th>sepal-width</th>\n",
              "      <th>petal-length</th>\n",
              "      <th>petal-width</th>\n",
              "      <th>Class</th>\n",
              "    </tr>\n",
              "  </thead>\n",
              "  <tbody>\n",
              "    <tr>\n",
              "      <th>0</th>\n",
              "      <td>5.1</td>\n",
              "      <td>3.5</td>\n",
              "      <td>1.4</td>\n",
              "      <td>0.2</td>\n",
              "      <td>Iris-setosa</td>\n",
              "    </tr>\n",
              "    <tr>\n",
              "      <th>1</th>\n",
              "      <td>4.9</td>\n",
              "      <td>3.0</td>\n",
              "      <td>1.4</td>\n",
              "      <td>0.2</td>\n",
              "      <td>Iris-setosa</td>\n",
              "    </tr>\n",
              "    <tr>\n",
              "      <th>2</th>\n",
              "      <td>4.7</td>\n",
              "      <td>3.2</td>\n",
              "      <td>1.3</td>\n",
              "      <td>0.2</td>\n",
              "      <td>Iris-setosa</td>\n",
              "    </tr>\n",
              "    <tr>\n",
              "      <th>3</th>\n",
              "      <td>4.6</td>\n",
              "      <td>3.1</td>\n",
              "      <td>1.5</td>\n",
              "      <td>0.2</td>\n",
              "      <td>Iris-setosa</td>\n",
              "    </tr>\n",
              "    <tr>\n",
              "      <th>4</th>\n",
              "      <td>5.0</td>\n",
              "      <td>3.6</td>\n",
              "      <td>1.4</td>\n",
              "      <td>0.2</td>\n",
              "      <td>Iris-setosa</td>\n",
              "    </tr>\n",
              "  </tbody>\n",
              "</table>\n",
              "</div>"
            ],
            "text/plain": [
              "   sepal-length  sepal-width  petal-length  petal-width        Class\n",
              "0           5.1          3.5           1.4          0.2  Iris-setosa\n",
              "1           4.9          3.0           1.4          0.2  Iris-setosa\n",
              "2           4.7          3.2           1.3          0.2  Iris-setosa\n",
              "3           4.6          3.1           1.5          0.2  Iris-setosa\n",
              "4           5.0          3.6           1.4          0.2  Iris-setosa"
            ]
          },
          "metadata": {
            "tags": []
          },
          "execution_count": 4
        }
      ]
    },
    {
      "cell_type": "code",
      "metadata": {
        "id": "24CsJjzKZxkb"
      },
      "source": [
        "#Preprocessing\n",
        "#The X variable contains the first four columns of the dataset  while y contains the labels.\n",
        "\n",
        "X = dataset.iloc[:, :-1].values\n",
        "y = dataset.iloc[:, 4].values"
      ],
      "execution_count": 5,
      "outputs": []
    },
    {
      "cell_type": "code",
      "metadata": {
        "id": "59IAncW0Z8Sr"
      },
      "source": [
        "#Train Test Split\n",
        "from sklearn.model_selection import train_test_split\n",
        "X_train, X_test, y_train, y_test = train_test_split(X, y, test_size=0.20)"
      ],
      "execution_count": 6,
      "outputs": []
    },
    {
      "cell_type": "code",
      "metadata": {
        "id": "NjGEt5b8aDGD"
      },
      "source": [
        "#Feature Scaling\n",
        "from sklearn.preprocessing import StandardScaler\n",
        "scaler = StandardScaler()\n",
        "scaler.fit(X_train)\n",
        "\n",
        "X_train = scaler.transform(X_train)\n",
        "X_test = scaler.transform(X_test)"
      ],
      "execution_count": 7,
      "outputs": []
    },
    {
      "cell_type": "code",
      "metadata": {
        "colab": {
          "base_uri": "https://localhost:8080/"
        },
        "id": "FyhrWUelaIXk",
        "outputId": "3ebc4567-e04c-49f6-83a9-9f6ded73c321"
      },
      "source": [
        "#Training and Predictions\n",
        "from sklearn.neighbors import KNeighborsClassifier\n",
        "classifier = KNeighborsClassifier(n_neighbors=5)\n",
        "classifier.fit(X_train, y_train)"
      ],
      "execution_count": 8,
      "outputs": [
        {
          "output_type": "execute_result",
          "data": {
            "text/plain": [
              "KNeighborsClassifier(algorithm='auto', leaf_size=30, metric='minkowski',\n",
              "                     metric_params=None, n_jobs=None, n_neighbors=5, p=2,\n",
              "                     weights='uniform')"
            ]
          },
          "metadata": {
            "tags": []
          },
          "execution_count": 8
        }
      ]
    },
    {
      "cell_type": "code",
      "metadata": {
        "id": "pVBDa2J8aNQT"
      },
      "source": [
        "y_pred = classifier.predict(X_test)\n"
      ],
      "execution_count": 9,
      "outputs": []
    },
    {
      "cell_type": "code",
      "metadata": {
        "colab": {
          "base_uri": "https://localhost:8080/"
        },
        "id": "1R7oSM1GaQxh",
        "outputId": "5b68898c-5e95-41b6-945c-753d0266edd6"
      },
      "source": [
        "#Evaluating the Algorithm\n",
        "from sklearn.metrics import classification_report, confusion_matrix\n",
        "print(confusion_matrix(y_test, y_pred))\n",
        "print(classification_report(y_test, y_pred))"
      ],
      "execution_count": 10,
      "outputs": [
        {
          "output_type": "stream",
          "text": [
            "[[ 8  0  0]\n",
            " [ 0 11  1]\n",
            " [ 0  0 10]]\n",
            "                 precision    recall  f1-score   support\n",
            "\n",
            "    Iris-setosa       1.00      1.00      1.00         8\n",
            "Iris-versicolor       1.00      0.92      0.96        12\n",
            " Iris-virginica       0.91      1.00      0.95        10\n",
            "\n",
            "       accuracy                           0.97        30\n",
            "      macro avg       0.97      0.97      0.97        30\n",
            "   weighted avg       0.97      0.97      0.97        30\n",
            "\n"
          ],
          "name": "stdout"
        }
      ]
    },
    {
      "cell_type": "code",
      "metadata": {
        "id": "ank5DUEbaU_A"
      },
      "source": [
        "#Comparing Error Rate with the K Value\n",
        "error = []\n",
        "\n",
        "# Calculating error for K values between 1 and 40\n",
        "for i in range(1, 40):\n",
        "    knn = KNeighborsClassifier(n_neighbors=i)\n",
        "    knn.fit(X_train, y_train)\n",
        "    pred_i = knn.predict(X_test)\n",
        "    error.append(np.mean(pred_i != y_test))"
      ],
      "execution_count": 11,
      "outputs": []
    },
    {
      "cell_type": "code",
      "metadata": {
        "colab": {
          "base_uri": "https://localhost:8080/",
          "height": 421
        },
        "id": "txXZEdR9adyu",
        "outputId": "c943b62b-8bb0-46cf-b4e9-2398169be2e7"
      },
      "source": [
        "#plotting\n",
        "plt.figure(figsize=(12, 6))\n",
        "plt.plot(range(1, 40), error, color='red', linestyle='dashed', marker='o',\n",
        "         markerfacecolor='blue', markersize=10)\n",
        "plt.title('Error Rate K Value')\n",
        "plt.xlabel('K Value')\n",
        "plt.ylabel('Mean Error')"
      ],
      "execution_count": 12,
      "outputs": [
        {
          "output_type": "execute_result",
          "data": {
            "text/plain": [
              "Text(0, 0.5, 'Mean Error')"
            ]
          },
          "metadata": {
            "tags": []
          },
          "execution_count": 12
        },
        {
          "output_type": "display_data",
          "data": {
            "image/png": "[encoded data removed]",
            "text/plain": [
              "<Figure size 864x432 with 1 Axes>"
            ]
          },
          "metadata": {
            "tags": [],
            "needs_background": "light"
          }
        }
      ]
    },
    {
      "cell_type": "code",
      "metadata": {
        "id": "svW9juzUahPH"
      },
      "source": [
        ""
      ],
      "execution_count": null,
      "outputs": []
    },
    {
      "cell_type": "markdown",
      "metadata": {
        "id": "g96KMkoLavTv"
      },
      "source": [
        "### **KNN from scratch **"
      ]
    },
    {
      "cell_type": "code",
      "metadata": {
        "colab": {
          "base_uri": "https://localhost:8080/"
        },
        "id": "TqTFG-Lnaz1z",
        "outputId": "42b732ce-64c1-4140-a558-75bbb1e3f7fb"
      },
      "source": [
        "import csv\n",
        "import random\n",
        "\n",
        "# load irist dataset and randomly split it into test set and training set\n",
        "url = \"https://archive.ics.uci.edu/ml/machine-learning-databases/iris/iris.data\"\n",
        "\n",
        "def loadDataset(filename, split, trainingSet=[] , testSet=[]):\n",
        "\twith open(filename, 'rt') as csvfile:\n",
        "\t    lines = csv.reader(csvfile)\n",
        "\t    dataset = list(lines)\n",
        "\t    for x in range(len(dataset)-1):\n",
        "\t        for y in range(4):\n",
        "\t            dataset[x][y] = float(dataset[x][y])\n",
        "\t        if random.random() < split:\n",
        "\t            trainingSet.append(dataset[x])\n",
        "\t        else:\n",
        "\t            testSet.append(dataset[x])\n",
        "\n",
        "\n",
        "#############################\n",
        "# SIMILARITY CHECK FUNCTION #\n",
        "#############################\n",
        "\n",
        "# euclidean distance calcualtion\n",
        "\n",
        "import math\n",
        "def euclideanDistance(instance1, instance2, length):\n",
        "\tdistance = 0\n",
        "\tfor x in range(length):\n",
        "\t\tdistance += pow((instance1[x] - instance2[x]), 2)\n",
        "\treturn math.sqrt(distance)\n",
        "\n",
        "\n",
        "\n",
        "############################################################\n",
        "# NEIGHBOURS - selecting subset with the smallest distance #\n",
        "############################################################\n",
        "\n",
        "import operator \n",
        "def getNeighbors(trainingSet, testInstance, k):\n",
        "\tdistances = []\n",
        "\tlength = len(testInstance)-1\n",
        "\tfor x in range(len(trainingSet)):\n",
        "\t\tdist = euclideanDistance(testInstance, trainingSet[x], length)\n",
        "\t\tdistances.append((trainingSet[x], dist))\n",
        "\tdistances.sort(key=operator.itemgetter(1))\n",
        "\tneighbors = []\n",
        "\tfor x in range(k):\n",
        "\t\tneighbors.append(distances[x][0])\n",
        "\treturn neighbors\n",
        "\n",
        "\n",
        "\n",
        "######################\n",
        "# PREDICTED RESPONSE #\n",
        "######################\n",
        "\n",
        "import operator\n",
        "def getResponse(neighbors):\n",
        "\tclassVotes = {}\n",
        "\tfor x in range(len(neighbors)):\n",
        "\t\tresponse = neighbors[x][-1]\n",
        "\t\tif response in classVotes:\n",
        "\t\t\tclassVotes[response] += 1\n",
        "\t\telse:\n",
        "\t\t\tclassVotes[response] = 1\n",
        "\tsortedVotes = sorted(classVotes.items(), key=operator.itemgetter(1), reverse=True)\n",
        "\treturn sortedVotes[0][0]\n",
        "\n",
        "\n",
        "\n",
        "######################\n",
        "# MEASURING ACCURACY #\n",
        "######################\n",
        "\n",
        "def getAccuracy(testSet, predictions):\n",
        "\tcorrect = 0\n",
        "\tfor x in range(len(testSet)):\n",
        "\t\tif testSet[x][-1] in predictions[x]: \n",
        "\t\t\tcorrect = correct + 1\n",
        "\t\t\t\n",
        "\treturn (correct/float(len(testSet))*100) \n",
        "\n",
        "def main():\n",
        "\t# prepare data\n",
        "\ttrainingSet=[]\n",
        "\ttestSet=[]\n",
        "\tsplit = 0.67\n",
        "\tloadDataset('iris.data', split, trainingSet, testSet)\n",
        "\tprint ('Train set: ' + repr(len(trainingSet)))\n",
        "\tprint ('Test set: ' + repr(len(testSet)))\n",
        "\t# generate predictions\n",
        "\tpredictions=[]\n",
        "\tk = 3\n",
        "\tfor x in range(len(testSet)):\n",
        "\t\tneighbors = getNeighbors(trainingSet, testSet[x], k)\n",
        "\t\tresult = getResponse(neighbors)\n",
        "\t\tpredictions.append(result)\n",
        "\t\t# print('> predicted=' + repr(result) + ', actual=' + repr(testSet[x][-1]))\n",
        "\taccuracy = getAccuracy(testSet, predictions)\n",
        "\tprint('Accuracy: ' + repr(accuracy) + '%')\n",
        "\t\n",
        "main()"
      ],
      "execution_count": 16,
      "outputs": [
        {
          "output_type": "stream",
          "text": [
            "Train set: 89\n",
            "Test set: 61\n",
            "Accuracy: 98.36065573770492%\n"
          ],
          "name": "stdout"
        }
      ]
    }
  ]
}