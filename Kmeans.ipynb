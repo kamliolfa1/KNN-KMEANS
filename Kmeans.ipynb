{
  "nbformat": 4,
  "nbformat_minor": 0,
  "metadata": {
    "colab": {
      "name": "Kmeans.ipynb",
      "provenance": [],
      "toc_visible": true
    },
    "kernelspec": {
      "name": "python3",
      "display_name": "Python 3"
    }
  },
  "cells": [
    {
      "cell_type": "markdown",
      "metadata": {
        "id": "E7AVyj7bfhZ9"
      },
      "source": [
        "# KMEANS from scratch Clustering #"
      ]
    },
    {
      "cell_type": "code",
      "metadata": {
        "id": "tM3Nv-eYfXLb"
      },
      "source": [
        "# Importing the libraries\n",
        "import numpy as np\n",
        "import matplotlib.pyplot as plt\n",
        "% matplotlib inline\n",
        "from copy import deepcopy"
      ],
      "execution_count": 20,
      "outputs": []
    },
    {
      "cell_type": "code",
      "metadata": {
        "colab": {
          "base_uri": "https://localhost:8080/",
          "height": 282
        },
        "id": "RP8Du-a_fXt0",
        "outputId": "73070f3d-3a4b-41b0-cb76-7d6e624321ee"
      },
      "source": [
        "#Create data points\n",
        "data_points = np.random.rand(50,2)\n",
        "# print(data_points)\n",
        "plt.scatter(data_points[:,0], data_points[:,1], s=7)"
      ],
      "execution_count": 21,
      "outputs": [
        {
          "output_type": "execute_result",
          "data": {
            "text/plain": [
              "<matplotlib.collections.PathCollection at 0x7fb9505780f0>"
            ]
          },
          "metadata": {
            "tags": []
          },
          "execution_count": 21
        },
        {
          "output_type": "display_data",
          "data": {
            "image/png": "[encoded data removed]",
            "text/plain": [
              "<Figure size 432x288 with 1 Axes>"
            ]
          },
          "metadata": {
            "tags": [],
            "needs_background": "light"
          }
        }
      ]
    },
    {
      "cell_type": "code",
      "metadata": {
        "colab": {
          "base_uri": "https://localhost:8080/"
        },
        "id": "O4WSMaFtgSQU",
        "outputId": "e3311ac0-2206-4231-d873-e69fa17f4f19"
      },
      "source": [
        "\n",
        "# Number of clusters\n",
        "k = 3\n",
        "# Number of training data\n",
        "n = data_points.shape[0]\n",
        "# Number of features in the data\n",
        "c = data_points.shape[1]\n",
        "\n",
        "# Generate random centers, here we use sigma and mean to ensure it represent the whole data\n",
        "mean = np.mean(data_points, axis = 0)\n",
        "std = np.std(data_points, axis = 0)\n",
        "centers = np.random.randn(k,c)*std + mean\n",
        "centers"
      ],
      "execution_count": 22,
      "outputs": [
        {
          "output_type": "execute_result",
          "data": {
            "text/plain": [
              "array([[0.53175502, 0.17384242],\n",
              "       [0.4385156 , 0.19108017],\n",
              "       [0.59641196, 0.46129861]])"
            ]
          },
          "metadata": {
            "tags": []
          },
          "execution_count": 22
        }
      ]
    },
    {
      "cell_type": "code",
      "metadata": {
        "colab": {
          "base_uri": "https://localhost:8080/",
          "height": 282
        },
        "id": "LaWQMwMKgXSG",
        "outputId": "c6c7a09c-be89-46f4-cd3d-f8c4dbe993d2"
      },
      "source": [
        "# Plot the data and the centers generated as random\n",
        "plt.scatter(data_points[:,0], data_points[:,1])\n",
        "plt.scatter(centers[:,0], centers[:,1], marker='o', c='r')"
      ],
      "execution_count": 23,
      "outputs": [
        {
          "output_type": "execute_result",
          "data": {
            "text/plain": [
              "<matplotlib.collections.PathCollection at 0x7fb9506afa90>"
            ]
          },
          "metadata": {
            "tags": []
          },
          "execution_count": 23
        },
        {
          "output_type": "display_data",
          "data": {
            "image/png": "[encoded data removed]",
            "text/plain": [
              "<Figure size 432x288 with 1 Axes>"
            ]
          },
          "metadata": {
            "tags": [],
            "needs_background": "light"
          }
        }
      ]
    },
    {
      "cell_type": "code",
      "metadata": {
        "colab": {
          "base_uri": "https://localhost:8080/"
        },
        "id": "c8kFkYMpgc0I",
        "outputId": "390ddcff-d63d-4f29-84e7-d537a4bb0780"
      },
      "source": [
        "centers_old = np.zeros(centers.shape) # to store old centers\n",
        "centers_new = deepcopy(centers) # Store new centers\n",
        "\n",
        "data_points.shape\n",
        "# clusters = np.zeros(n)\n",
        "distances = np.zeros((n,k))\n",
        "\n",
        "error = np.linalg.norm(centers_new - centers_old)\n",
        "\n",
        "# When, after an update, the estimate of that center stays the same, exit loop\n",
        "while error != 0:\n",
        "    # Measure the distance to every center\n",
        "    for i in range(k):\n",
        "        distances[:,i] = np.linalg.norm(data_points - centers[i], axis=1)\n",
        "        print(distances)\n",
        "    # Assign all training data to closest center\n",
        "    clusters = np.argmin(distances, axis = 1)\n",
        "    \n",
        "    centers_old = deepcopy(centers_new)\n",
        "    # Calculate mean for every cluster and update the center\n",
        "    for i in range(k):\n",
        "        centers_new[i] = np.mean(data_points[clusters == i], axis=0)\n",
        "    error = np.linalg.norm(centers_new - centers_old)\n",
        "centers_new"
      ],
      "execution_count": 24,
      "outputs": [
        {
          "output_type": "stream",
          "text": [
            "[[0.52493307 0.         0.        ]\n",
            " [0.20211183 0.         0.        ]\n",
            " [0.33630857 0.         0.        ]\n",
            " [0.16263665 0.         0.        ]\n",
            " [0.29881889 0.         0.        ]\n",
            " [0.71639588 0.         0.        ]\n",
            " [0.20011384 0.         0.        ]\n",
            " [0.47925094 0.         0.        ]\n",
            " [0.17359068 0.         0.        ]\n",
            " [0.70919398 0.         0.        ]\n",
            " [0.31761124 0.         0.        ]\n",
            " [0.54631838 0.         0.        ]\n",
            " [0.48468604 0.         0.        ]\n",
            " [0.66884627 0.         0.        ]\n",
            " [0.51690426 0.         0.        ]\n",
            " [0.71028971 0.         0.        ]\n",
            " [0.51959738 0.         0.        ]\n",
            " [0.47166145 0.         0.        ]\n",
            " [0.26151596 0.         0.        ]\n",
            " [0.85684556 0.         0.        ]\n",
            " [0.65351835 0.         0.        ]\n",
            " [0.50977239 0.         0.        ]\n",
            " [0.48942788 0.         0.        ]\n",
            " [0.79193882 0.         0.        ]\n",
            " [0.28660771 0.         0.        ]\n",
            " [0.7552541  0.         0.        ]\n",
            " [0.36229849 0.         0.        ]\n",
            " [0.18154336 0.         0.        ]\n",
            " [0.32924349 0.         0.        ]\n",
            " [0.34069468 0.         0.        ]\n",
            " [0.47783159 0.         0.        ]\n",
            " [0.85737684 0.         0.        ]\n",
            " [0.34006226 0.         0.        ]\n",
            " [0.20343587 0.         0.        ]\n",
            " [0.30154053 0.         0.        ]\n",
            " [0.38424084 0.         0.        ]\n",
            " [0.26504424 0.         0.        ]\n",
            " [0.18269189 0.         0.        ]\n",
            " [0.56385392 0.         0.        ]\n",
            " [0.10878181 0.         0.        ]\n",
            " [0.37919605 0.         0.        ]\n",
            " [0.13249904 0.         0.        ]\n",
            " [0.70289242 0.         0.        ]\n",
            " [0.43313453 0.         0.        ]\n",
            " [0.41891585 0.         0.        ]\n",
            " [0.29374664 0.         0.        ]\n",
            " [0.27248342 0.         0.        ]\n",
            " [0.14276779 0.         0.        ]\n",
            " [0.63494406 0.         0.        ]\n",
            " [0.45315989 0.         0.        ]]\n",
            "[[0.52493307 0.49875985 0.        ]\n",
            " [0.20211183 0.20087277 0.        ]\n",
            " [0.33630857 0.38902008 0.        ]\n",
            " [0.16263665 0.15556761 0.        ]\n",
            " [0.29881889 0.20481717 0.        ]\n",
            " [0.71639588 0.66681475 0.        ]\n",
            " [0.20011384 0.10644283 0.        ]\n",
            " [0.47925094 0.45133907 0.        ]\n",
            " [0.17359068 0.12771036 0.        ]\n",
            " [0.70919398 0.71440951 0.        ]\n",
            " [0.31761124 0.39681006 0.        ]\n",
            " [0.54631838 0.45208481 0.        ]\n",
            " [0.48468604 0.53489736 0.        ]\n",
            " [0.66884627 0.70714808 0.        ]\n",
            " [0.51690426 0.54977486 0.        ]\n",
            " [0.71028971 0.67895343 0.        ]\n",
            " [0.51959738 0.51694738 0.        ]\n",
            " [0.47166145 0.45534685 0.        ]\n",
            " [0.26151596 0.35421514 0.        ]\n",
            " [0.85684556 0.79173493 0.        ]\n",
            " [0.65351835 0.66219593 0.        ]\n",
            " [0.50977239 0.55055334 0.        ]\n",
            " [0.48942788 0.41098322 0.        ]\n",
            " [0.79193882 0.73774159 0.        ]\n",
            " [0.28660771 0.19885758 0.        ]\n",
            " [0.7552541  0.74832634 0.        ]\n",
            " [0.36229849 0.27359918 0.        ]\n",
            " [0.18154336 0.26903815 0.        ]\n",
            " [0.32924349 0.2423263  0.        ]\n",
            " [0.34069468 0.34968896 0.        ]\n",
            " [0.47783159 0.53012189 0.        ]\n",
            " [0.85737684 0.79848021 0.        ]\n",
            " [0.34006226 0.43268956 0.        ]\n",
            " [0.20343587 0.1087169  0.        ]\n",
            " [0.30154053 0.34521929 0.        ]\n",
            " [0.38424084 0.29099612 0.        ]\n",
            " [0.26504424 0.34231176 0.        ]\n",
            " [0.18269189 0.12932757 0.        ]\n",
            " [0.56385392 0.50291399 0.        ]\n",
            " [0.10878181 0.19665286 0.        ]\n",
            " [0.37919605 0.45281001 0.        ]\n",
            " [0.13249904 0.22366401 0.        ]\n",
            " [0.70289242 0.71953045 0.        ]\n",
            " [0.43313453 0.46210652 0.        ]\n",
            " [0.41891585 0.49309542 0.        ]\n",
            " [0.29374664 0.28960475 0.        ]\n",
            " [0.27248342 0.18336958 0.        ]\n",
            " [0.14276779 0.23362138 0.        ]\n",
            " [0.63494406 0.65118544 0.        ]\n",
            " [0.45315989 0.41812734 0.        ]]\n",
            "[[0.52493307 0.49875985 0.27963867]\n",
            " [0.20211183 0.20087277 0.11613732]\n",
            " [0.33630857 0.38902008 0.14294875]\n",
            " [0.16263665 0.15556761 0.45142579]\n",
            " [0.29881889 0.20481717 0.44934962]\n",
            " [0.71639588 0.66681475 0.51281534]\n",
            " [0.20011384 0.10644283 0.34357085]\n",
            " [0.47925094 0.45133907 0.24532753]\n",
            " [0.17359068 0.12771036 0.21443139]\n",
            " [0.70919398 0.71440951 0.41518731]\n",
            " [0.31761124 0.39681006 0.25956208]\n",
            " [0.54631838 0.45208481 0.60423733]\n",
            " [0.48468604 0.53489736 0.2513054 ]\n",
            " [0.66884627 0.70714808 0.39903734]\n",
            " [0.51690426 0.54977486 0.2397444 ]\n",
            " [0.71028971 0.67895343 0.46092862]\n",
            " [0.51959738 0.51694738 0.23326536]\n",
            " [0.47166145 0.45534685 0.211437  ]\n",
            " [0.26151596 0.35421514 0.33435464]\n",
            " [0.85684556 0.79173493 0.69470928]\n",
            " [0.65351835 0.66219593 0.35897563]\n",
            " [0.50977239 0.55055334 0.24876913]\n",
            " [0.48942788 0.41098322 0.69566535]\n",
            " [0.79193882 0.73774159 0.59675263]\n",
            " [0.28660771 0.19885758 0.47773061]\n",
            " [0.7552541  0.74832634 0.46788307]\n",
            " [0.36229849 0.27359918 0.53973391]\n",
            " [0.18154336 0.26903815 0.40757555]\n",
            " [0.32924349 0.2423263  0.36863658]\n",
            " [0.34069468 0.34968896 0.05279683]\n",
            " [0.47783159 0.53012189 0.25190453]\n",
            " [0.85737684 0.79848021 0.6731904 ]\n",
            " [0.34006226 0.43268956 0.49320656]\n",
            " [0.20343587 0.1087169  0.36990766]\n",
            " [0.30154053 0.34521929 0.09084296]\n",
            " [0.38424084 0.29099612 0.52798449]\n",
            " [0.26504424 0.34231176 0.22395461]\n",
            " [0.18269189 0.12932757 0.22562285]\n",
            " [0.56385392 0.50291399 0.41702289]\n",
            " [0.10878181 0.19665286 0.25375858]\n",
            " [0.37919605 0.45281001 0.2664058 ]\n",
            " [0.13249904 0.22366401 0.35966024]\n",
            " [0.70289242 0.71953045 0.40956247]\n",
            " [0.43313453 0.46210652 0.15110714]\n",
            " [0.41891585 0.49309542 0.29825188]\n",
            " [0.29374664 0.28960475 0.07180409]\n",
            " [0.27248342 0.18336958 0.46025386]\n",
            " [0.14276779 0.23362138 0.36725458]\n",
            " [0.63494406 0.65118544 0.34131157]\n",
            " [0.45315989 0.41812734 0.24479573]]\n",
            "[[0.52493307 0.49875985 0.27963867]\n",
            " [0.20211183 0.20087277 0.11613732]\n",
            " [0.33630857 0.38902008 0.14294875]\n",
            " [0.16263665 0.15556761 0.45142579]\n",
            " [0.29881889 0.20481717 0.44934962]\n",
            " [0.71639588 0.66681475 0.51281534]\n",
            " [0.20011384 0.10644283 0.34357085]\n",
            " [0.47925094 0.45133907 0.24532753]\n",
            " [0.17359068 0.12771036 0.21443139]\n",
            " [0.70919398 0.71440951 0.41518731]\n",
            " [0.31761124 0.39681006 0.25956208]\n",
            " [0.54631838 0.45208481 0.60423733]\n",
            " [0.48468604 0.53489736 0.2513054 ]\n",
            " [0.66884627 0.70714808 0.39903734]\n",
            " [0.51690426 0.54977486 0.2397444 ]\n",
            " [0.71028971 0.67895343 0.46092862]\n",
            " [0.51959738 0.51694738 0.23326536]\n",
            " [0.47166145 0.45534685 0.211437  ]\n",
            " [0.26151596 0.35421514 0.33435464]\n",
            " [0.85684556 0.79173493 0.69470928]\n",
            " [0.65351835 0.66219593 0.35897563]\n",
            " [0.50977239 0.55055334 0.24876913]\n",
            " [0.48942788 0.41098322 0.69566535]\n",
            " [0.79193882 0.73774159 0.59675263]\n",
            " [0.28660771 0.19885758 0.47773061]\n",
            " [0.7552541  0.74832634 0.46788307]\n",
            " [0.36229849 0.27359918 0.53973391]\n",
            " [0.18154336 0.26903815 0.40757555]\n",
            " [0.32924349 0.2423263  0.36863658]\n",
            " [0.34069468 0.34968896 0.05279683]\n",
            " [0.47783159 0.53012189 0.25190453]\n",
            " [0.85737684 0.79848021 0.6731904 ]\n",
            " [0.34006226 0.43268956 0.49320656]\n",
            " [0.20343587 0.1087169  0.36990766]\n",
            " [0.30154053 0.34521929 0.09084296]\n",
            " [0.38424084 0.29099612 0.52798449]\n",
            " [0.26504424 0.34231176 0.22395461]\n",
            " [0.18269189 0.12932757 0.22562285]\n",
            " [0.56385392 0.50291399 0.41702289]\n",
            " [0.10878181 0.19665286 0.25375858]\n",
            " [0.37919605 0.45281001 0.2664058 ]\n",
            " [0.13249904 0.22366401 0.35966024]\n",
            " [0.70289242 0.71953045 0.40956247]\n",
            " [0.43313453 0.46210652 0.15110714]\n",
            " [0.41891585 0.49309542 0.29825188]\n",
            " [0.29374664 0.28960475 0.07180409]\n",
            " [0.27248342 0.18336958 0.46025386]\n",
            " [0.14276779 0.23362138 0.36725458]\n",
            " [0.63494406 0.65118544 0.34131157]\n",
            " [0.45315989 0.41812734 0.24479573]]\n",
            "[[0.52493307 0.49875985 0.27963867]\n",
            " [0.20211183 0.20087277 0.11613732]\n",
            " [0.33630857 0.38902008 0.14294875]\n",
            " [0.16263665 0.15556761 0.45142579]\n",
            " [0.29881889 0.20481717 0.44934962]\n",
            " [0.71639588 0.66681475 0.51281534]\n",
            " [0.20011384 0.10644283 0.34357085]\n",
            " [0.47925094 0.45133907 0.24532753]\n",
            " [0.17359068 0.12771036 0.21443139]\n",
            " [0.70919398 0.71440951 0.41518731]\n",
            " [0.31761124 0.39681006 0.25956208]\n",
            " [0.54631838 0.45208481 0.60423733]\n",
            " [0.48468604 0.53489736 0.2513054 ]\n",
            " [0.66884627 0.70714808 0.39903734]\n",
            " [0.51690426 0.54977486 0.2397444 ]\n",
            " [0.71028971 0.67895343 0.46092862]\n",
            " [0.51959738 0.51694738 0.23326536]\n",
            " [0.47166145 0.45534685 0.211437  ]\n",
            " [0.26151596 0.35421514 0.33435464]\n",
            " [0.85684556 0.79173493 0.69470928]\n",
            " [0.65351835 0.66219593 0.35897563]\n",
            " [0.50977239 0.55055334 0.24876913]\n",
            " [0.48942788 0.41098322 0.69566535]\n",
            " [0.79193882 0.73774159 0.59675263]\n",
            " [0.28660771 0.19885758 0.47773061]\n",
            " [0.7552541  0.74832634 0.46788307]\n",
            " [0.36229849 0.27359918 0.53973391]\n",
            " [0.18154336 0.26903815 0.40757555]\n",
            " [0.32924349 0.2423263  0.36863658]\n",
            " [0.34069468 0.34968896 0.05279683]\n",
            " [0.47783159 0.53012189 0.25190453]\n",
            " [0.85737684 0.79848021 0.6731904 ]\n",
            " [0.34006226 0.43268956 0.49320656]\n",
            " [0.20343587 0.1087169  0.36990766]\n",
            " [0.30154053 0.34521929 0.09084296]\n",
            " [0.38424084 0.29099612 0.52798449]\n",
            " [0.26504424 0.34231176 0.22395461]\n",
            " [0.18269189 0.12932757 0.22562285]\n",
            " [0.56385392 0.50291399 0.41702289]\n",
            " [0.10878181 0.19665286 0.25375858]\n",
            " [0.37919605 0.45281001 0.2664058 ]\n",
            " [0.13249904 0.22366401 0.35966024]\n",
            " [0.70289242 0.71953045 0.40956247]\n",
            " [0.43313453 0.46210652 0.15110714]\n",
            " [0.41891585 0.49309542 0.29825188]\n",
            " [0.29374664 0.28960475 0.07180409]\n",
            " [0.27248342 0.18336958 0.46025386]\n",
            " [0.14276779 0.23362138 0.36725458]\n",
            " [0.63494406 0.65118544 0.34131157]\n",
            " [0.45315989 0.41812734 0.24479573]]\n",
            "[[0.52493307 0.49875985 0.27963867]\n",
            " [0.20211183 0.20087277 0.11613732]\n",
            " [0.33630857 0.38902008 0.14294875]\n",
            " [0.16263665 0.15556761 0.45142579]\n",
            " [0.29881889 0.20481717 0.44934962]\n",
            " [0.71639588 0.66681475 0.51281534]\n",
            " [0.20011384 0.10644283 0.34357085]\n",
            " [0.47925094 0.45133907 0.24532753]\n",
            " [0.17359068 0.12771036 0.21443139]\n",
            " [0.70919398 0.71440951 0.41518731]\n",
            " [0.31761124 0.39681006 0.25956208]\n",
            " [0.54631838 0.45208481 0.60423733]\n",
            " [0.48468604 0.53489736 0.2513054 ]\n",
            " [0.66884627 0.70714808 0.39903734]\n",
            " [0.51690426 0.54977486 0.2397444 ]\n",
            " [0.71028971 0.67895343 0.46092862]\n",
            " [0.51959738 0.51694738 0.23326536]\n",
            " [0.47166145 0.45534685 0.211437  ]\n",
            " [0.26151596 0.35421514 0.33435464]\n",
            " [0.85684556 0.79173493 0.69470928]\n",
            " [0.65351835 0.66219593 0.35897563]\n",
            " [0.50977239 0.55055334 0.24876913]\n",
            " [0.48942788 0.41098322 0.69566535]\n",
            " [0.79193882 0.73774159 0.59675263]\n",
            " [0.28660771 0.19885758 0.47773061]\n",
            " [0.7552541  0.74832634 0.46788307]\n",
            " [0.36229849 0.27359918 0.53973391]\n",
            " [0.18154336 0.26903815 0.40757555]\n",
            " [0.32924349 0.2423263  0.36863658]\n",
            " [0.34069468 0.34968896 0.05279683]\n",
            " [0.47783159 0.53012189 0.25190453]\n",
            " [0.85737684 0.79848021 0.6731904 ]\n",
            " [0.34006226 0.43268956 0.49320656]\n",
            " [0.20343587 0.1087169  0.36990766]\n",
            " [0.30154053 0.34521929 0.09084296]\n",
            " [0.38424084 0.29099612 0.52798449]\n",
            " [0.26504424 0.34231176 0.22395461]\n",
            " [0.18269189 0.12932757 0.22562285]\n",
            " [0.56385392 0.50291399 0.41702289]\n",
            " [0.10878181 0.19665286 0.25375858]\n",
            " [0.37919605 0.45281001 0.2664058 ]\n",
            " [0.13249904 0.22366401 0.35966024]\n",
            " [0.70289242 0.71953045 0.40956247]\n",
            " [0.43313453 0.46210652 0.15110714]\n",
            " [0.41891585 0.49309542 0.29825188]\n",
            " [0.29374664 0.28960475 0.07180409]\n",
            " [0.27248342 0.18336958 0.46025386]\n",
            " [0.14276779 0.23362138 0.36725458]\n",
            " [0.63494406 0.65118544 0.34131157]\n",
            " [0.45315989 0.41812734 0.24479573]]\n"
          ],
          "name": "stdout"
        },
        {
          "output_type": "execute_result",
          "data": {
            "text/plain": [
              "array([[0.70672698, 0.1164674 ],\n",
              "       [0.25884821, 0.19754707],\n",
              "       [0.57829891, 0.63964141]])"
            ]
          },
          "metadata": {
            "tags": []
          },
          "execution_count": 24
        }
      ]
    },
    {
      "cell_type": "code",
      "metadata": {
        "colab": {
          "base_uri": "https://localhost:8080/",
          "height": 282
        },
        "id": "HDev2kZkggj9",
        "outputId": "eefb9fc6-c5d0-419c-9a8b-f37fa4ee5f1a"
      },
      "source": [
        "# Plot the data and the centers generated as random\n",
        "plt.scatter(data_points[:,0], data_points[:,1], s=7)\n",
        "plt.scatter(centers_new[:,0], centers_new[:,1], marker='*', c='g', s=150)"
      ],
      "execution_count": 25,
      "outputs": [
        {
          "output_type": "execute_result",
          "data": {
            "text/plain": [
              "<matplotlib.collections.PathCollection at 0x7fb950508c50>"
            ]
          },
          "metadata": {
            "tags": []
          },
          "execution_count": 25
        },
        {
          "output_type": "display_data",
          "data": {
            "image/png": "[encoded data removed]",
            "text/plain": [
              "<Figure size 432x288 with 1 Axes>"
            ]
          },
          "metadata": {
            "tags": [],
            "needs_background": "light"
          }
        }
      ]
    },
    {
      "cell_type": "code",
      "metadata": {
        "colab": {
          "base_uri": "https://localhost:8080/"
        },
        "id": "QIO0VCVPgl_B",
        "outputId": "3b1dabc6-329f-4bf5-badf-f23c8bfb5fd1"
      },
      "source": [
        "centers\n"
      ],
      "execution_count": 26,
      "outputs": [
        {
          "output_type": "execute_result",
          "data": {
            "text/plain": [
              "array([[0.53175502, 0.17384242],\n",
              "       [0.4385156 , 0.19108017],\n",
              "       [0.59641196, 0.46129861]])"
            ]
          },
          "metadata": {
            "tags": []
          },
          "execution_count": 26
        }
      ]
    },
    {
      "cell_type": "code",
      "metadata": {
        "colab": {
          "base_uri": "https://localhost:8080/"
        },
        "id": "jfKvotYmgod7",
        "outputId": "9c773a9a-c59e-49a3-f8ad-3f55a06a3d7c"
      },
      "source": [
        "clusters"
      ],
      "execution_count": 27,
      "outputs": [
        {
          "output_type": "execute_result",
          "data": {
            "text/plain": [
              "array([2, 2, 2, 1, 1, 2, 1, 2, 1, 2, 2, 1, 2, 2, 2, 2, 2, 2, 0, 2, 2, 2,\n",
              "       1, 2, 1, 2, 1, 0, 1, 2, 2, 2, 0, 1, 2, 1, 2, 1, 2, 0, 2, 0, 2, 2,\n",
              "       2, 2, 1, 0, 2, 2])"
            ]
          },
          "metadata": {
            "tags": []
          },
          "execution_count": 27
        }
      ]
    },
    {
      "cell_type": "code",
      "metadata": {
        "id": "VSumMmb5gpDN"
      },
      "source": [
        ""
      ],
      "execution_count": null,
      "outputs": []
    }
  ]
}